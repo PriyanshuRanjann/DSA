{
  "nbformat": 4,
  "nbformat_minor": 0,
  "metadata": {
    "colab": {
      "provenance": [],
      "authorship_tag": "ABX9TyNllfJkwMMKajfepLNRB0I9",
      "include_colab_link": true
    },
    "kernelspec": {
      "name": "python3",
      "display_name": "Python 3"
    },
    "language_info": {
      "name": "python"
    }
  },
  "cells": [
    {
      "cell_type": "markdown",
      "metadata": {
        "id": "view-in-github",
        "colab_type": "text"
      },
      "source": [
        "<a href=\"https://colab.research.google.com/github/PriyanshuRanjann/DSA/blob/main/Basic_maths_for_DSA.ipynb\" target=\"_parent\"><img src=\"https://colab.research.google.com/assets/colab-badge.svg\" alt=\"Open In Colab\"/></a>"
      ]
    },
    {
      "cell_type": "code",
      "execution_count": null,
      "metadata": {
        "colab": {
          "base_uri": "https://localhost:8080/"
        },
        "id": "_l9UHk3qT3tx",
        "outputId": "059e4ae1-376d-482b-a27b-ab50ac40a344"
      },
      "outputs": [
        {
          "output_type": "stream",
          "name": "stdout",
          "text": [
            "10\n"
          ]
        }
      ],
      "source": [
        "w=7789345678\n",
        "cnt=0\n",
        "while (w>0):\n",
        "    lastdigit=w%10\n",
        "    cnt=cnt+1\n",
        "    w=w//10\n",
        "print(cnt)\n",
        "\n"
      ]
    },
    {
      "cell_type": "code",
      "source": [
        "#reverse of a number\n",
        "\n",
        "n=7786978\n",
        "\n",
        "revNum=0\n",
        "while (n>0):\n",
        "  lastdigit=n%10\n",
        "  revNum=(revNum*10)+lastdigit\n",
        "  n=n//10\n",
        "print(revNum)"
      ],
      "metadata": {
        "id": "uaLTYA4gU_WT",
        "colab": {
          "base_uri": "https://localhost:8080/"
        },
        "outputId": "b50c4164-7108-476e-8133-16c5375cece9"
      },
      "execution_count": 3,
      "outputs": [
        {
          "output_type": "stream",
          "name": "stdout",
          "text": [
            "8796877\n"
          ]
        }
      ]
    },
    {
      "cell_type": "code",
      "source": [
        "#Palindrome\n",
        "\n",
        "n=808\n",
        "z=n\n",
        "revNum=0\n",
        "while (n>0):\n",
        "  lastdigit=n%10\n",
        "  revNum=(revNum*10)+lastdigit\n",
        "  n=n//10\n",
        "if z==revNum:\n",
        "  print( \"is palindrome\")\n",
        "else :\n",
        "  print(\"is not a palindrome\")"
      ],
      "metadata": {
        "id": "_JjtRzSlmO6h",
        "colab": {
          "base_uri": "https://localhost:8080/"
        },
        "outputId": "e3290bce-db35-49c7-bf2b-e873ba1f4a0d"
      },
      "execution_count": 62,
      "outputs": [
        {
          "output_type": "stream",
          "name": "stdout",
          "text": [
            "is palindrome\n"
          ]
        }
      ]
    },
    {
      "cell_type": "code",
      "source": [
        "#check armstrong\n",
        "n=153\n",
        "z=n\n",
        "armstrong=0\n",
        "while n>0:\n",
        "  lastdigit=n%10\n",
        "  armstrong=armstrong+(lastdigit**3)\n",
        "  n=n//10\n",
        "if armstrong==z:\n",
        "  print(\"is armstrong\")\n",
        "else:\n",
        "  print(\"is not armstrong\")"
      ],
      "metadata": {
        "colab": {
          "base_uri": "https://localhost:8080/"
        },
        "id": "Pd1xA9k_JkqZ",
        "outputId": "11f94182-75f5-42fd-9b07-88b8c9589a4e"
      },
      "execution_count": 20,
      "outputs": [
        {
          "output_type": "stream",
          "name": "stdout",
          "text": [
            "is armstrong\n"
          ]
        }
      ]
    },
    {
      "cell_type": "code",
      "source": [
        "#Factors of n\n",
        "import math\n",
        "n=36\n",
        "\n",
        "\n",
        "lst=[]\n",
        "for i in range(1,int(math.sqrt(n))+1):\n",
        "  if n%i==0:\n",
        "    lst.append(i)\n",
        "    if i!=n//i:\n",
        "      lst.append(n//i)\n",
        "lst.sort()\n",
        "print(\"all the numbers that divides\",n,\"is\",lst)\n"
      ],
      "metadata": {
        "colab": {
          "base_uri": "https://localhost:8080/"
        },
        "id": "6sSmqz37KxW5",
        "outputId": "cd6d6cea-1e03-455a-92b2-92d8141d06f6"
      },
      "execution_count": 60,
      "outputs": [
        {
          "output_type": "stream",
          "name": "stdout",
          "text": [
            "all the numbers that divides 36 is [1, 2, 3, 4, 6, 9, 12, 18, 36]\n"
          ]
        }
      ]
    },
    {
      "cell_type": "code",
      "source": [
        "#check for prime\n",
        "import math\n",
        "count=0\n",
        "n=2\n",
        "for i in range(1,int(math.sqrt(n))+1):\n",
        "  if n%i==0:\n",
        "    lst.append(i)\n",
        "    count=count+1\n",
        "    if i!=n//i:\n",
        "      lst.append(n//i)\n",
        "      count=count+1\n",
        "if count==2:\n",
        "  print(\"is prime\")\n",
        "else:\n",
        "  print(\"is not prime\")"
      ],
      "metadata": {
        "colab": {
          "base_uri": "https://localhost:8080/"
        },
        "id": "MfiWIyS9L_iN",
        "outputId": "677ab8cd-dd7b-4754-b708-e4132bc5cb84"
      },
      "execution_count": 59,
      "outputs": [
        {
          "output_type": "stream",
          "name": "stdout",
          "text": [
            "is prime\n"
          ]
        }
      ]
    },
    {
      "cell_type": "code",
      "source": [],
      "metadata": {
        "id": "PbZLfzI9UtPS"
      },
      "execution_count": null,
      "outputs": []
    }
  ]
}