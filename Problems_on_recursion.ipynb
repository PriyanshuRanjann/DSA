{
  "nbformat": 4,
  "nbformat_minor": 0,
  "metadata": {
    "colab": {
      "provenance": [],
      "authorship_tag": "ABX9TyNItAWQxDJu6gB2sTxfYZAP",
      "include_colab_link": true
    },
    "kernelspec": {
      "name": "python3",
      "display_name": "Python 3"
    },
    "language_info": {
      "name": "python"
    }
  },
  "cells": [
    {
      "cell_type": "markdown",
      "metadata": {
        "id": "view-in-github",
        "colab_type": "text"
      },
      "source": [
        "<a href=\"https://colab.research.google.com/github/PriyanshuRanjann/DSA/blob/main/Problems_on_recursion.ipynb\" target=\"_parent\"><img src=\"https://colab.research.google.com/assets/colab-badge.svg\" alt=\"Open In Colab\"/></a>"
      ]
    },
    {
      "cell_type": "markdown",
      "source": [
        "# **RECURSSION QUESTIONS BASIC**"
      ],
      "metadata": {
        "id": "e2JuYDT_zGwt"
      }
    },
    {
      "cell_type": "code",
      "execution_count": 7,
      "metadata": {
        "colab": {
          "base_uri": "https://localhost:8080/"
        },
        "id": "Dai3xLESuKrG",
        "outputId": "8ae17bb0-184a-4f37-92c9-eeb3a1bd99a5"
      },
      "outputs": [
        {
          "output_type": "stream",
          "name": "stdout",
          "text": [
            "PR\n",
            "PR\n",
            "PR\n",
            "PR\n",
            "PR\n"
          ]
        }
      ],
      "source": [
        "#Printing name n no. of times\n",
        "def sum1(n,s):\n",
        "  if s<=0:\n",
        "    return\n",
        "  print(n)\n",
        "  sum1(n,s-1)\n",
        "sum1(\"PR\", 5)\n"
      ]
    },
    {
      "cell_type": "code",
      "source": [
        "#Print linearly from 1 to n\n",
        "def sum2(n):\n",
        "  if n==0:\n",
        "    return\n",
        "  sum2(n-1)\n",
        "  print(n)\n",
        "z=int(input(\"enter no.\"))\n",
        "sum2(z)"
      ],
      "metadata": {
        "colab": {
          "base_uri": "https://localhost:8080/"
        },
        "id": "0hWzJCRauoD8",
        "outputId": "26bc12af-1361-4ea1-d15e-d4af641e595f"
      },
      "execution_count": 12,
      "outputs": [
        {
          "output_type": "stream",
          "name": "stdout",
          "text": [
            "enter no.5\n",
            "1\n",
            "2\n",
            "3\n",
            "4\n",
            "5\n"
          ]
        }
      ]
    },
    {
      "cell_type": "code",
      "source": [
        "#Print linearly from n to 1\n",
        "def sum3(n):\n",
        "  if n==0:\n",
        "    return\n",
        "  print(n)\n",
        "  sum2(n-1)\n",
        "z=int(input(\"enter no.\"))\n",
        "sum3(z)"
      ],
      "metadata": {
        "colab": {
          "base_uri": "https://localhost:8080/"
        },
        "id": "tB5HSvK10Xu9",
        "outputId": "77369267-c3b5-40e0-b527-92317c0d1549"
      },
      "execution_count": 13,
      "outputs": [
        {
          "output_type": "stream",
          "name": "stdout",
          "text": [
            "enter no.3\n",
            "3\n",
            "2\n",
            "1\n"
          ]
        }
      ]
    },
    {
      "cell_type": "code",
      "source": [
        "#Backtracking method\n",
        "def sum4(i,n):\n",
        "  if i<1:\n",
        "    return\n",
        "  sum4(i-1,n)\n",
        "  print(i)\n",
        "sum4(8,6)"
      ],
      "metadata": {
        "colab": {
          "base_uri": "https://localhost:8080/"
        },
        "id": "l8U3S8lC0yXg",
        "outputId": "de6f40fa-07b9-407e-c953-070b85d0d8dc"
      },
      "execution_count": 5,
      "outputs": [
        {
          "output_type": "stream",
          "name": "stdout",
          "text": [
            "1\n",
            "2\n",
            "3\n",
            "4\n",
            "5\n",
            "6\n",
            "7\n",
            "8\n"
          ]
        }
      ]
    },
    {
      "cell_type": "code",
      "source": [
        "#Backtracking Method\n",
        "def sum4(i,n):\n",
        "  if i<1:\n",
        "    return\n",
        "  print(i)\n",
        "  sum4(i-1,n)\n",
        "\n",
        "sum4(8,6)"
      ],
      "metadata": {
        "colab": {
          "base_uri": "https://localhost:8080/"
        },
        "id": "BczdayGQZV1_",
        "outputId": "0b79ceda-4dad-40bf-a866-a25c6eb76a7f"
      },
      "execution_count": 6,
      "outputs": [
        {
          "output_type": "stream",
          "name": "stdout",
          "text": [
            "8\n",
            "7\n",
            "6\n",
            "5\n",
            "4\n",
            "3\n",
            "2\n",
            "1\n"
          ]
        }
      ]
    },
    {
      "cell_type": "code",
      "source": [
        "#Sum of n numbers\n",
        "#Parameterised way\n",
        "\n",
        "def sum5(n,finalsum):\n",
        "  if n<1:\n",
        "    print(finalsum)\n",
        "    return\n",
        "  sum5(n-1,finalsum+n)\n",
        "z=int(input(\"enter no.\"))\n",
        "sum5(z,0)"
      ],
      "metadata": {
        "colab": {
          "base_uri": "https://localhost:8080/"
        },
        "id": "0SkmXeFTZu7u",
        "outputId": "284049f5-ae5e-4356-9256-1f125669a369"
      },
      "execution_count": 12,
      "outputs": [
        {
          "output_type": "stream",
          "name": "stdout",
          "text": [
            "enter no.5\n",
            "15\n"
          ]
        }
      ]
    },
    {
      "cell_type": "code",
      "source": [
        "#FUNCTIONAL RECURSION WAY\n",
        "def sum6(n):\n",
        "  if n==0:\n",
        "    return 0\n",
        "  return n+sum6(n-1)\n",
        "z=int(input(\"enter no.\"))\n",
        "sum6(z)"
      ],
      "metadata": {
        "colab": {
          "base_uri": "https://localhost:8080/"
        },
        "id": "r3SGcNZ6bLdd",
        "outputId": "ff588f96-1bef-49e4-b4a1-a3aed707a16e"
      },
      "execution_count": 14,
      "outputs": [
        {
          "name": "stdout",
          "output_type": "stream",
          "text": [
            "enter no.4\n"
          ]
        },
        {
          "output_type": "execute_result",
          "data": {
            "text/plain": [
              "10"
            ]
          },
          "metadata": {},
          "execution_count": 14
        }
      ]
    },
    {
      "cell_type": "code",
      "source": [
        "#reverse an array\n",
        "lst=[1,5,4,3,2]\n",
        "def ls(lst,start,end):\n",
        "  if start>=end:\n",
        "    return\n",
        "  lst[start],lst[end]=lst[end],lst[start]\n",
        "  ls(lst,start+1,end-1)\n",
        "start=0\n",
        "end=len(lst)-1\n",
        "ls(lst,start,end)\n",
        "print(lst)\n",
        "\n"
      ],
      "metadata": {
        "colab": {
          "base_uri": "https://localhost:8080/"
        },
        "id": "phOKif6ec6kc",
        "outputId": "bfc8b737-529c-4964-98e8-40344838835c"
      },
      "execution_count": 2,
      "outputs": [
        {
          "output_type": "stream",
          "name": "stdout",
          "text": [
            "[2, 3, 4, 5, 1]\n"
          ]
        }
      ]
    },
    {
      "cell_type": "code",
      "source": [],
      "metadata": {
        "id": "aQj-3tSn7aOe"
      },
      "execution_count": null,
      "outputs": []
    }
  ]
}